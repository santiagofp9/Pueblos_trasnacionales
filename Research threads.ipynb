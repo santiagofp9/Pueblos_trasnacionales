{
 "cells": [
  {
   "cell_type": "code",
   "execution_count": null,
   "id": "4295bbe9",
   "metadata": {},
   "outputs": [],
   "source": [
    "#There is way too much info available for this activity, \n",
    "#here I will list several threads i haven't pulled from yet."
   ]
  },
  {
   "cell_type": "code",
   "execution_count": 1,
   "id": "c6b83fb4",
   "metadata": {},
   "outputs": [],
   "source": [
    "# Google Maps API\n",
    "#https://towardsdatascience.com/how-to-use-the-google-places-api-for-location-analysis-and-more-17e48f8f25b1\n",
    "#https://developers.google.com/maps/documentation/places/web-service?hl=es-419"
   ]
  },
  {
   "cell_type": "code",
   "execution_count": null,
   "id": "74360c41",
   "metadata": {},
   "outputs": [],
   "source": [
    "#Supreme table\n",
    "#It has the population by town. Lists each birthcountry.\n",
    "#Came out of http://gestiona.madrid.org/sita"
   ]
  },
  {
   "cell_type": "code",
   "execution_count": null,
   "id": "5f3a3ea1",
   "metadata": {},
   "outputs": [],
   "source": [
    "#Instituto de estadística Comunidad de Madrid\n",
    "#This might be the main database that I will use\n",
    "#'http://gestiona.madrid.org/sita/AccionLlamadaArbolTemas_dwr.icm'"
   ]
  },
  {
   "cell_type": "code",
   "execution_count": null,
   "id": "9138c0b1",
   "metadata": {},
   "outputs": [],
   "source": [
    "# Población extranjera en la ciudad de Madrid (por nacionalidad)\n",
    "#A looot of data\n",
    "#https://www.madrid.es/portales/munimadrid/es/Inicio/El-Ayuntamiento/Estadistica/Areas-de-informacion-estadistica/Demografia-y-poblacion/Poblacion-extranjera/Poblacion-extranjera-en-la-ciudad-de-Madrid-por-nacionalidad-/?vgnextfmt=default&vgnextoid=c289d54944580510VgnVCM2000000c205a0aRCRD&vgnextchannel=9ce23636b44b4210VgnVCM2000000c205a0aRCRD"
   ]
  },
  {
   "cell_type": "code",
   "execution_count": null,
   "id": "70a1de6e",
   "metadata": {},
   "outputs": [],
   "source": [
    "#El País article, jun 2022, Berta Ferrero, web\n",
    "#\"Más de la mitad de los extranjeros que llegan a Madrid son mujeres y proceden de Rumania y América\"\n",
    "#Based on UGT and Comunidad de Madrid data.\n",
    "#Inmigrants do not take local's jobs and rarely use social security."
   ]
  },
  {
   "cell_type": "code",
   "execution_count": 1,
   "id": "b73c1cc7",
   "metadata": {},
   "outputs": [],
   "source": [
    "#Processed numbers on Madrid city, web\n",
    "#Total immigrants, number by neighborhood, number by nation.\n",
    "#https://oficinamunicipalinmigracion.es/datos-poblacion-extranjera-ciudad-madrid/"
   ]
  },
  {
   "cell_type": "code",
   "execution_count": null,
   "id": "f17a1a82",
   "metadata": {},
   "outputs": [],
   "source": [
    "#Encuesta Regional de Inmigración, Comunidad de Madrid, 2019, PDF\n",
    "#Insight on people sentiment and family statistics.\n",
    "#'https://www.comunidad.madrid/sites/default/files/aud/servicios-sociales/presentacion_definitiva_eri_2019_.pdf'"
   ]
  },
  {
   "cell_type": "code",
   "execution_count": null,
   "id": "319975e5",
   "metadata": {},
   "outputs": [],
   "source": []
  },
  {
   "cell_type": "code",
   "execution_count": null,
   "id": "28c1bc4a",
   "metadata": {},
   "outputs": [],
   "source": [
    "#More than numbers: How migration data...(International Organization for Migration, Jan 2018)\n",
    "#can deliver real-life benefits for migrants and governments.\n",
    "#https://www.mckinsey.com/industries/public-and-social-sector/our-insights/how-migration-data-can-deliver-real-life-benefits-for-migrants-and-governments"
   ]
  },
  {
   "cell_type": "code",
   "execution_count": null,
   "id": "3c1fa819",
   "metadata": {},
   "outputs": [],
   "source": [
    "#Plan de inmigración de la Comunidad de Madrid, 2019-2021, PDF\n",
    "#What they planned to do, what they mannaged to do. 429 millones de euros.\n",
    "#'https://www.comunidad.madrid/transparencia/sites/default/files/plan/document/balance_2020_plan_de_inmigracion.pdf'"
   ]
  },
  {
   "cell_type": "code",
   "execution_count": null,
   "id": "a951a02d",
   "metadata": {},
   "outputs": [],
   "source": [
    "#\"People on the move\", McKinsey report, 2016, PDF\n",
    "#Corridors and characteristics; Effects on GDP, productivity, and employment; Better integration outcomes.\n",
    "#'https://www.mckinsey.com/~/media/mckinsey/industries/public%20and%20social%20sector/our%20insights/global%20migrations%20impact%20and%20opportunity/mgi-people-on-the-move-full-report.pdf'"
   ]
  },
  {
   "cell_type": "code",
   "execution_count": null,
   "id": "76128926",
   "metadata": {},
   "outputs": [],
   "source": [
    "#'Pixels of progress', McKinsey report, December 2022, web.\n",
    "#Findings from a new dataset that breaks the world down into \n",
    "#more than 40,000 microregions, a view 230 times more granular than a country perspective.\n",
    "#No accesible database, but an amazing example of how to portrait a dataset."
   ]
  }
 ],
 "metadata": {
  "kernelspec": {
   "display_name": "Python 3 (ipykernel)",
   "language": "python",
   "name": "python3"
  },
  "language_info": {
   "codemirror_mode": {
    "name": "ipython",
    "version": 3
   },
   "file_extension": ".py",
   "mimetype": "text/x-python",
   "name": "python",
   "nbconvert_exporter": "python",
   "pygments_lexer": "ipython3",
   "version": "3.9.15"
  }
 },
 "nbformat": 4,
 "nbformat_minor": 5
}
