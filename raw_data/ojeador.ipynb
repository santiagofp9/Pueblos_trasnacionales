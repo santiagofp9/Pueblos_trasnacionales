{
 "cells": [
  {
   "cell_type": "code",
   "execution_count": 6,
   "id": "157a99b5",
   "metadata": {},
   "outputs": [],
   "source": [
    "import pandas as pd\n",
    "pd.set_option('display.max_columns', None)\n",
    "\n",
    "import numpy as np\n",
    "\n",
    "import warnings\n",
    "warnings.filterwarnings('ignore')\n",
    "\n",
    "#Hokusai level shark graphics.\n",
    "import pylab as plt\n",
    "import seaborn as sns\n",
    "\n",
    "#This make the graph possible\n",
    "%matplotlib inline\n",
    "\n",
    "#Functions\n",
    "from src.funk import Funk "
   ]
  },
  {
   "cell_type": "code",
   "execution_count": 37,
   "id": "c8f73ae0",
   "metadata": {},
   "outputs": [],
   "source": [
    "#This table shows the population of every town, by birthcountry.\n",
    "#It will be the base table because it describes the amount of foreign people by town\n",
    "\n",
    "Pue_nacimiento = pd.read_excel('suprema.xlsx')"
   ]
  },
  {
   "cell_type": "code",
   "execution_count": 38,
   "id": "78a1f2c7",
   "metadata": {},
   "outputs": [
    {
     "data": {
      "text/plain": [
       "'N nan cols: 203'"
      ]
     },
     "metadata": {},
     "output_type": "display_data"
    },
    {
     "data": {
      "text/plain": [
       "Unnamed: 0      3.260870\n",
       "Unnamed: 1      3.804348\n",
       "Unnamed: 2      3.532609\n",
       "Unnamed: 3      3.532609\n",
       "Unnamed: 4      3.532609\n",
       "                  ...   \n",
       "Unnamed: 198    3.532609\n",
       "Unnamed: 199    3.532609\n",
       "Unnamed: 200    3.532609\n",
       "Unnamed: 201    3.532609\n",
       "Unnamed: 202    3.532609\n",
       "Length: 203, dtype: float64"
      ]
     },
     "metadata": {},
     "output_type": "display_data"
    },
    {
     "data": {
      "image/png": "[encoded data removed]",
      "text/plain": [
       "<Figure size 1000x600 with 1 Axes>"
      ]
     },
     "metadata": {},
     "output_type": "display_data"
    }
   ],
   "source": [
    "Funk.check_nan(tibu)"
   ]
  },
  {
   "cell_type": "code",
   "execution_count": 39,
   "id": "e5c499ed",
   "metadata": {},
   "outputs": [
    {
     "name": "stdout",
     "output_type": "stream",
     "text": [
      "<class 'pandas.core.frame.DataFrame'>\n",
      "RangeIndex: 368 entries, 0 to 367\n",
      "Columns: 203 entries, Unnamed: 0 to Unnamed: 202\n",
      "dtypes: object(203)\n",
      "memory usage: 2.4 MB\n"
     ]
    }
   ],
   "source": [
    "tibu.info(memory_usage='deep')"
   ]
  },
  {
   "cell_type": "code",
   "execution_count": 41,
   "id": "207b45c0",
   "metadata": {},
   "outputs": [
    {
     "data": {
      "text/plain": [
       "(368, 203)"
      ]
     },
     "execution_count": 41,
     "metadata": {},
     "output_type": "execute_result"
    }
   ],
   "source": [
    "tibu.shape\n"
   ]
  },
  {
   "cell_type": "code",
   "execution_count": 35,
   "id": "71a01380",
   "metadata": {},
   "outputs": [],
   "source": [
    "#Load fishy data from attacks.csv\n",
    "\n",
    "tiba = pd.read_csv('nacimientos_pormadre.csv', encoding = 'unicode_escape')"
   ]
  },
  {
   "cell_type": "code",
   "execution_count": 36,
   "id": "d0ad46cf",
   "metadata": {},
   "outputs": [
    {
     "data": {
      "text/html": [
       "<div>\n",
       "<style scoped>\n",
       "    .dataframe tbody tr th:only-of-type {\n",
       "        vertical-align: middle;\n",
       "    }\n",
       "\n",
       "    .dataframe tbody tr th {\n",
       "        vertical-align: top;\n",
       "    }\n",
       "\n",
       "    .dataframe thead th {\n",
       "        text-align: right;\n",
       "    }\n",
       "</style>\n",
       "<table border=\"1\" class=\"dataframe\">\n",
       "  <thead>\n",
       "    <tr style=\"text-align: right;\">\n",
       "      <th></th>\n",
       "      <th>municipio_codigo;municipio_nombre;sexo;nacionalidad_de_la_madre;numero_nacimientos</th>\n",
       "    </tr>\n",
       "  </thead>\n",
       "  <tbody>\n",
       "    <tr>\n",
       "      <th>0</th>\n",
       "      <td>001; Acebeda (La);Hombre;África;0</td>\n",
       "    </tr>\n",
       "    <tr>\n",
       "      <th>1</th>\n",
       "      <td>001; Acebeda (La);Hombre;América Central y del...</td>\n",
       "    </tr>\n",
       "    <tr>\n",
       "      <th>2</th>\n",
       "      <td>001; Acebeda (La);Hombre;América del Norte;0</td>\n",
       "    </tr>\n",
       "    <tr>\n",
       "      <th>3</th>\n",
       "      <td>001; Acebeda (La);Hombre;América del Sur;0</td>\n",
       "    </tr>\n",
       "    <tr>\n",
       "      <th>4</th>\n",
       "      <td>001; Acebeda (La);Hombre;Apátridas;0</td>\n",
       "    </tr>\n",
       "    <tr>\n",
       "      <th>5</th>\n",
       "      <td>001; Acebeda (La);Hombre;Asia;0</td>\n",
       "    </tr>\n",
       "    <tr>\n",
       "      <th>6</th>\n",
       "      <td>001; Acebeda (La);Hombre;No consta;0</td>\n",
       "    </tr>\n",
       "    <tr>\n",
       "      <th>7</th>\n",
       "      <td>001; Acebeda (La);Hombre;Oceanía;0</td>\n",
       "    </tr>\n",
       "    <tr>\n",
       "      <th>8</th>\n",
       "      <td>001; Acebeda (La);Hombre;Otros países de Améri...</td>\n",
       "    </tr>\n",
       "    <tr>\n",
       "      <th>9</th>\n",
       "      <td>001; Acebeda (La);Hombre;Otros países de Europa;0</td>\n",
       "    </tr>\n",
       "    <tr>\n",
       "      <th>10</th>\n",
       "      <td>001; Acebeda (La);Hombre;Unión Europea;0</td>\n",
       "    </tr>\n",
       "    <tr>\n",
       "      <th>11</th>\n",
       "      <td>001; Acebeda (La);Mujer;África;0</td>\n",
       "    </tr>\n",
       "    <tr>\n",
       "      <th>12</th>\n",
       "      <td>001; Acebeda (La);Mujer;América Central y del ...</td>\n",
       "    </tr>\n",
       "    <tr>\n",
       "      <th>13</th>\n",
       "      <td>001; Acebeda (La);Mujer;América del Norte;0</td>\n",
       "    </tr>\n",
       "    <tr>\n",
       "      <th>14</th>\n",
       "      <td>001; Acebeda (La);Mujer;América del Sur;0</td>\n",
       "    </tr>\n",
       "    <tr>\n",
       "      <th>15</th>\n",
       "      <td>001; Acebeda (La);Mujer;Apátridas;0</td>\n",
       "    </tr>\n",
       "    <tr>\n",
       "      <th>16</th>\n",
       "      <td>001; Acebeda (La);Mujer;Asia;0</td>\n",
       "    </tr>\n",
       "    <tr>\n",
       "      <th>17</th>\n",
       "      <td>001; Acebeda (La);Mujer;No consta;0</td>\n",
       "    </tr>\n",
       "    <tr>\n",
       "      <th>18</th>\n",
       "      <td>001; Acebeda (La);Mujer;Oceanía;0</td>\n",
       "    </tr>\n",
       "    <tr>\n",
       "      <th>19</th>\n",
       "      <td>001; Acebeda (La);Mujer;Otros países de América;0</td>\n",
       "    </tr>\n",
       "  </tbody>\n",
       "</table>\n",
       "</div>"
      ],
      "text/plain": [
       "   municipio_codigo;municipio_nombre;sexo;nacionalidad_de_la_madre;numero_nacimientos\n",
       "0                   001; Acebeda (La);Hombre;África;0                                \n",
       "1   001; Acebeda (La);Hombre;América Central y del...                                \n",
       "2        001; Acebeda (La);Hombre;América del Norte;0                                \n",
       "3          001; Acebeda (La);Hombre;América del Sur;0                                \n",
       "4                001; Acebeda (La);Hombre;Apátridas;0                                \n",
       "5                     001; Acebeda (La);Hombre;Asia;0                                \n",
       "6                001; Acebeda (La);Hombre;No consta;0                                \n",
       "7                  001; Acebeda (La);Hombre;Oceanía;0                                \n",
       "8   001; Acebeda (La);Hombre;Otros países de Améri...                                \n",
       "9   001; Acebeda (La);Hombre;Otros países de Europa;0                                \n",
       "10           001; Acebeda (La);Hombre;Unión Europea;0                                \n",
       "11                   001; Acebeda (La);Mujer;África;0                                \n",
       "12  001; Acebeda (La);Mujer;América Central y del ...                                \n",
       "13        001; Acebeda (La);Mujer;América del Norte;0                                \n",
       "14          001; Acebeda (La);Mujer;América del Sur;0                                \n",
       "15                001; Acebeda (La);Mujer;Apátridas;0                                \n",
       "16                     001; Acebeda (La);Mujer;Asia;0                                \n",
       "17                001; Acebeda (La);Mujer;No consta;0                                \n",
       "18                  001; Acebeda (La);Mujer;Oceanía;0                                \n",
       "19  001; Acebeda (La);Mujer;Otros países de América;0                                "
      ]
     },
     "execution_count": 36,
     "metadata": {},
     "output_type": "execute_result"
    }
   ],
   "source": [
    "tiba.head(20)"
   ]
  },
  {
   "cell_type": "code",
   "execution_count": null,
   "id": "7b2257aa",
   "metadata": {},
   "outputs": [],
   "source": []
  }
 ],
 "metadata": {
  "kernelspec": {
   "display_name": "Python 3 (ipykernel)",
   "language": "python",
   "name": "python3"
  },
  "language_info": {
   "codemirror_mode": {
    "name": "ipython",
    "version": 3
   },
   "file_extension": ".py",
   "mimetype": "text/x-python",
   "name": "python",
   "nbconvert_exporter": "python",
   "pygments_lexer": "ipython3",
   "version": "3.9.15"
  }
 },
 "nbformat": 4,
 "nbformat_minor": 5
}
