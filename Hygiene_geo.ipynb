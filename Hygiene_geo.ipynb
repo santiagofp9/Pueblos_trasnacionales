{
 "cells": [
  {
   "cell_type": "code",
   "execution_count": 1,
   "id": "72772710",
   "metadata": {},
   "outputs": [],
   "source": [
    "import pandas as pd\n",
    "pd.set_option('display.max_columns', None)\n",
    "\n",
    "import numpy as np\n",
    "import geopandas as gpd\n",
    "\n",
    "import warnings\n",
    "warnings.filterwarnings('ignore')\n",
    "\n",
    "from keplergl import KeplerGl\n",
    "\n",
    "#Functions\n",
    "from src.funk import Funk "
   ]
  },
  {
   "cell_type": "code",
   "execution_count": 2,
   "id": "66678b32",
   "metadata": {},
   "outputs": [],
   "source": [
    "#I will deal only with Comunidad de Madrid to save resources. \n",
    "# If needed, the whole set or another subset can be used, the polygons are there. \n",
    "\n",
    "#spain=gpd.read_file('polygons/georef-spain-municipio@public.geojson')   # cargar datos geoespaciales (multipolygon)\n",
    "#RangeIndex: 8223 entries, 0 to 8222 ; Data columns (total 12 columns) ; memory usage: 6.8 MB\n",
    "\n",
    "#madri = spain[spain['prov_name'] == 'Madrid']\n",
    "# Int64Index: 181 entries, 176 to 8027 ; Data columns (total 12 columns) ; memory usage: 151.5 KB\n",
    "\n",
    "#Only Comunidad de Madrid saved.\n",
    "#madri.to_file('polygons/Comunidad_de_Madrid.geojson', driver='GeoJSON')"
   ]
  },
  {
   "cell_type": "code",
   "execution_count": 3,
   "id": "69fa4ae2",
   "metadata": {},
   "outputs": [
    {
     "data": {
      "text/html": [
       "<div>\n",
       "<style scoped>\n",
       "    .dataframe tbody tr th:only-of-type {\n",
       "        vertical-align: middle;\n",
       "    }\n",
       "\n",
       "    .dataframe tbody tr th {\n",
       "        vertical-align: top;\n",
       "    }\n",
       "\n",
       "    .dataframe thead th {\n",
       "        text-align: right;\n",
       "    }\n",
       "</style>\n",
       "<table border=\"1\" class=\"dataframe\">\n",
       "  <thead>\n",
       "    <tr style=\"text-align: right;\">\n",
       "      <th></th>\n",
       "      <th>geo_point_2d</th>\n",
       "      <th>mun_code</th>\n",
       "      <th>mun_name</th>\n",
       "      <th>geometry</th>\n",
       "    </tr>\n",
       "  </thead>\n",
       "  <tbody>\n",
       "    <tr>\n",
       "      <th>164</th>\n",
       "      <td>{'lon': -3.9892581186684386, 'lat': 40.2324046...</td>\n",
       "      <td>28004</td>\n",
       "      <td>El Alamo</td>\n",
       "      <td>POLYGON ((-4.02403 40.24897, -4.02443 40.24801...</td>\n",
       "    </tr>\n",
       "  </tbody>\n",
       "</table>\n",
       "</div>"
      ],
      "text/plain": [
       "                                          geo_point_2d mun_code  mun_name  \\\n",
       "164  {'lon': -3.9892581186684386, 'lat': 40.2324046...    28004  El Alamo   \n",
       "\n",
       "                                              geometry  \n",
       "164  POLYGON ((-4.02403 40.24897, -4.02443 40.24801...  "
      ]
     },
     "execution_count": 3,
     "metadata": {},
     "output_type": "execute_result"
    }
   ],
   "source": [
    "#This file contains the polygons for Comunidad de Madrid, for each Municipio.\n",
    "#This file does not have municipal codes, only zipcodes. Also, the name of the Municipios does not exactly match the base table.\n",
    "\n",
    "#I can see two possible paths. \n",
    "# Either assign zipcodes to every municipio on the base table, but some municipios have several zipcodes. \n",
    "#  Only Alaclá de Henares has 7 different zipcodes\n",
    "#   mun_code is not zipcode, it is its code in the Agencia Tributaria\n",
    "#    Mun_id in foreign_born is the code for Institudo de Estadística\n",
    "#     Most likely one is the code for Comunidad de Madrid and the other one is in Spain\n",
    "# Or clean their names in order to match the base table.\n",
    "#  This will be the way.\n",
    "\n",
    "madrid = gpd.read_file('polygons/Comunidad_de_Madrid.geojson')   # cargar datos geoespaciales (multipolygon)\n",
    "#RangeIndex: 181 entries, 0 to 180 ; Data columns (total 12 columns): memory usage: 17.1+ KB\n",
    "\n",
    "madrid.drop(madrid.columns[[1, 2, 3, 4, 5, 8, 9, 10]], axis=1, inplace=True)\n",
    "#Los Baldios and El Redegüelo are not actual municipios, but territories in Cercedilla and Morarzarzal\n",
    "madrid.drop(madrid[(madrid.mun_name == 'Los Baldios')].index, axis=0, inplace=True)\n",
    "madrid.drop(madrid[(madrid.mun_name == 'El Redegüelo')].index, axis=0, inplace=True)\n",
    "madrid.loc[madrid.mun_name == 'El Álamo'].replace('El Álamo','El Alamo')\n"
   ]
  },
  {
   "cell_type": "code",
   "execution_count": 4,
   "id": "a8b9cad0",
   "metadata": {},
   "outputs": [],
   "source": [
    "for i in madrid.mun_name: \n",
    "    if i.startswith('El '): \n",
    "        madrid.mun_name = madrid.mun_name.replace(i,i[3:] + ' (El)') \n",
    "    elif i.startswith('La '): \n",
    "        madrid.mun_name = madrid.mun_name.replace(i,i[3:] + ' (La)') \n",
    "    elif i.startswith('Las '): \n",
    "        madrid.mun_name = madrid.mun_name.replace(i,i[4:] + ' (Las)')\n",
    "    elif i.startswith('Los '): \n",
    "        madrid.mun_name = madrid.mun_name.replace(i,i[4:] + ' (Los)')\n",
    "\n",
    "madrid = madrid.sort_values('mun_name')\n",
    "#madrid.columns.values[2] = 'Municipio'"
   ]
  },
  {
   "cell_type": "code",
   "execution_count": 5,
   "id": "4b61dcae",
   "metadata": {},
   "outputs": [
    {
     "data": {
      "text/plain": [
       "(180, 212)"
      ]
     },
     "execution_count": 5,
     "metadata": {},
     "output_type": "execute_result"
    }
   ],
   "source": [
    "f_b = pd.read_csv('clean_data/Foreign_born.csv')\n",
    "#Columns: 212 entries, Mun_id to _merge ; dtypes: float64(1), int64(209), object(2) ; memory usage: 298.2+ KB\n",
    "#There are only 179 minucipios in Comunidad de Madrid, what are the other 33 entries?\n",
    "f_b.shape"
   ]
  },
  {
   "cell_type": "code",
   "execution_count": 6,
   "id": "2a3ec4fa",
   "metadata": {},
   "outputs": [
    {
     "data": {
      "text/html": [
       "<div>\n",
       "<style scoped>\n",
       "    .dataframe tbody tr th:only-of-type {\n",
       "        vertical-align: middle;\n",
       "    }\n",
       "\n",
       "    .dataframe tbody tr th {\n",
       "        vertical-align: top;\n",
       "    }\n",
       "\n",
       "    .dataframe thead th {\n",
       "        text-align: right;\n",
       "    }\n",
       "</style>\n",
       "<table border=\"1\" class=\"dataframe\">\n",
       "  <thead>\n",
       "    <tr style=\"text-align: right;\">\n",
       "      <th></th>\n",
       "      <th>geo_point_2d</th>\n",
       "      <th>mun_code</th>\n",
       "      <th>mun_name</th>\n",
       "      <th>geometry</th>\n",
       "    </tr>\n",
       "  </thead>\n",
       "  <tbody>\n",
       "    <tr>\n",
       "      <th>123</th>\n",
       "      <td>{'lon': -3.6357100678630663, 'lat': 41.0931461...</td>\n",
       "      <td>28001</td>\n",
       "      <td>Acebeda (La)</td>\n",
       "      <td>POLYGON ((-3.67606 41.08670, -3.67457 41.08504...</td>\n",
       "    </tr>\n",
       "    <tr>\n",
       "      <th>0</th>\n",
       "      <td>{'lon': -3.4801385596854346, 'lat': 40.5239757...</td>\n",
       "      <td>28002</td>\n",
       "      <td>Ajalvir</td>\n",
       "      <td>POLYGON ((-3.51222 40.53864, -3.51151 40.53759...</td>\n",
       "    </tr>\n",
       "    <tr>\n",
       "      <th>96</th>\n",
       "      <td>{'lon': -3.8500020800172634, 'lat': 40.9203835...</td>\n",
       "      <td>28003</td>\n",
       "      <td>Alameda del Valle</td>\n",
       "      <td>POLYGON ((-3.89864 40.95883, -3.89742 40.95681...</td>\n",
       "    </tr>\n",
       "    <tr>\n",
       "      <th>1</th>\n",
       "      <td>{'lon': -3.3696004109155107, 'lat': 40.4945916...</td>\n",
       "      <td>28005</td>\n",
       "      <td>Alcalá de Henares</td>\n",
       "      <td>POLYGON ((-3.44720 40.44631, -3.44669 40.44589...</td>\n",
       "    </tr>\n",
       "    <tr>\n",
       "      <th>145</th>\n",
       "      <td>{'lon': -3.6301211453858566, 'lat': 40.5345949...</td>\n",
       "      <td>28006</td>\n",
       "      <td>Alcobendas</td>\n",
       "      <td>POLYGON ((-3.67414 40.58886, -3.67600 40.58795...</td>\n",
       "    </tr>\n",
       "  </tbody>\n",
       "</table>\n",
       "</div>"
      ],
      "text/plain": [
       "                                          geo_point_2d mun_code  \\\n",
       "123  {'lon': -3.6357100678630663, 'lat': 41.0931461...    28001   \n",
       "0    {'lon': -3.4801385596854346, 'lat': 40.5239757...    28002   \n",
       "96   {'lon': -3.8500020800172634, 'lat': 40.9203835...    28003   \n",
       "1    {'lon': -3.3696004109155107, 'lat': 40.4945916...    28005   \n",
       "145  {'lon': -3.6301211453858566, 'lat': 40.5345949...    28006   \n",
       "\n",
       "              mun_name                                           geometry  \n",
       "123       Acebeda (La)  POLYGON ((-3.67606 41.08670, -3.67457 41.08504...  \n",
       "0              Ajalvir  POLYGON ((-3.51222 40.53864, -3.51151 40.53759...  \n",
       "96   Alameda del Valle  POLYGON ((-3.89864 40.95883, -3.89742 40.95681...  \n",
       "1    Alcalá de Henares  POLYGON ((-3.44720 40.44631, -3.44669 40.44589...  \n",
       "145         Alcobendas  POLYGON ((-3.67414 40.58886, -3.67600 40.58795...  "
      ]
     },
     "execution_count": 6,
     "metadata": {},
     "output_type": "execute_result"
    }
   ],
   "source": [
    "madrid.head()"
   ]
  },
  {
   "cell_type": "code",
   "execution_count": 8,
   "id": "c2c6a41d",
   "metadata": {},
   "outputs": [
    {
     "ename": "KeyError",
     "evalue": "'mun_name'",
     "output_type": "error",
     "traceback": [
      "\u001b[0;31m---------------------------------------------------------------------------\u001b[0m",
      "\u001b[0;31mKeyError\u001b[0m                                  Traceback (most recent call last)",
      "\u001b[0;32m/tmp/ipykernel_4401/3275863183.py\u001b[0m in \u001b[0;36m<module>\u001b[0;34m\u001b[0m\n\u001b[0;32m----> 1\u001b[0;31m \u001b[0mgrafi\u001b[0m \u001b[0;34m=\u001b[0m \u001b[0mf_b\u001b[0m\u001b[0;34m.\u001b[0m\u001b[0mmerge\u001b[0m\u001b[0;34m(\u001b[0m\u001b[0mmadrid\u001b[0m\u001b[0;34m,\u001b[0m \u001b[0mon\u001b[0m\u001b[0;34m=\u001b[0m\u001b[0;34m'mun_name'\u001b[0m\u001b[0;34m,\u001b[0m \u001b[0mhow\u001b[0m\u001b[0;34m=\u001b[0m\u001b[0;34m'left'\u001b[0m\u001b[0;34m,\u001b[0m \u001b[0mindicator\u001b[0m\u001b[0;34m=\u001b[0m\u001b[0;32mTrue\u001b[0m\u001b[0;34m)\u001b[0m\u001b[0;34m\u001b[0m\u001b[0;34m\u001b[0m\u001b[0m\n\u001b[0m\u001b[1;32m      2\u001b[0m \u001b[0mgrafi\u001b[0m\u001b[0;34m.\u001b[0m\u001b[0mhead\u001b[0m\u001b[0;34m(\u001b[0m\u001b[0;34m)\u001b[0m\u001b[0;34m\u001b[0m\u001b[0;34m\u001b[0m\u001b[0m\n",
      "\u001b[0;32m~/anaconda3/lib/python3.9/site-packages/pandas/core/frame.py\u001b[0m in \u001b[0;36mmerge\u001b[0;34m(self, right, how, on, left_on, right_on, left_index, right_index, sort, suffixes, copy, indicator, validate)\u001b[0m\n\u001b[1;32m   9352\u001b[0m         \u001b[0;32mfrom\u001b[0m \u001b[0mpandas\u001b[0m\u001b[0;34m.\u001b[0m\u001b[0mcore\u001b[0m\u001b[0;34m.\u001b[0m\u001b[0mreshape\u001b[0m\u001b[0;34m.\u001b[0m\u001b[0mmerge\u001b[0m \u001b[0;32mimport\u001b[0m \u001b[0mmerge\u001b[0m\u001b[0;34m\u001b[0m\u001b[0;34m\u001b[0m\u001b[0m\n\u001b[1;32m   9353\u001b[0m \u001b[0;34m\u001b[0m\u001b[0m\n\u001b[0;32m-> 9354\u001b[0;31m         return merge(\n\u001b[0m\u001b[1;32m   9355\u001b[0m             \u001b[0mself\u001b[0m\u001b[0;34m,\u001b[0m\u001b[0;34m\u001b[0m\u001b[0;34m\u001b[0m\u001b[0m\n\u001b[1;32m   9356\u001b[0m             \u001b[0mright\u001b[0m\u001b[0;34m,\u001b[0m\u001b[0;34m\u001b[0m\u001b[0;34m\u001b[0m\u001b[0m\n",
      "\u001b[0;32m~/anaconda3/lib/python3.9/site-packages/pandas/core/reshape/merge.py\u001b[0m in \u001b[0;36mmerge\u001b[0;34m(left, right, how, on, left_on, right_on, left_index, right_index, sort, suffixes, copy, indicator, validate)\u001b[0m\n\u001b[1;32m    105\u001b[0m     \u001b[0mvalidate\u001b[0m\u001b[0;34m:\u001b[0m \u001b[0mstr\u001b[0m \u001b[0;34m|\u001b[0m \u001b[0;32mNone\u001b[0m \u001b[0;34m=\u001b[0m \u001b[0;32mNone\u001b[0m\u001b[0;34m,\u001b[0m\u001b[0;34m\u001b[0m\u001b[0;34m\u001b[0m\u001b[0m\n\u001b[1;32m    106\u001b[0m ) -> DataFrame:\n\u001b[0;32m--> 107\u001b[0;31m     op = _MergeOperation(\n\u001b[0m\u001b[1;32m    108\u001b[0m         \u001b[0mleft\u001b[0m\u001b[0;34m,\u001b[0m\u001b[0;34m\u001b[0m\u001b[0;34m\u001b[0m\u001b[0m\n\u001b[1;32m    109\u001b[0m         \u001b[0mright\u001b[0m\u001b[0;34m,\u001b[0m\u001b[0;34m\u001b[0m\u001b[0;34m\u001b[0m\u001b[0m\n",
      "\u001b[0;32m~/anaconda3/lib/python3.9/site-packages/pandas/core/reshape/merge.py\u001b[0m in \u001b[0;36m__init__\u001b[0;34m(self, left, right, how, on, left_on, right_on, axis, left_index, right_index, sort, suffixes, copy, indicator, validate)\u001b[0m\n\u001b[1;32m    698\u001b[0m             \u001b[0mself\u001b[0m\u001b[0;34m.\u001b[0m\u001b[0mright_join_keys\u001b[0m\u001b[0;34m,\u001b[0m\u001b[0;34m\u001b[0m\u001b[0;34m\u001b[0m\u001b[0m\n\u001b[1;32m    699\u001b[0m             \u001b[0mself\u001b[0m\u001b[0;34m.\u001b[0m\u001b[0mjoin_names\u001b[0m\u001b[0;34m,\u001b[0m\u001b[0;34m\u001b[0m\u001b[0;34m\u001b[0m\u001b[0m\n\u001b[0;32m--> 700\u001b[0;31m         ) = self._get_merge_keys()\n\u001b[0m\u001b[1;32m    701\u001b[0m \u001b[0;34m\u001b[0m\u001b[0m\n\u001b[1;32m    702\u001b[0m         \u001b[0;31m# validate the merge keys dtypes. We may need to coerce\u001b[0m\u001b[0;34m\u001b[0m\u001b[0;34m\u001b[0m\u001b[0m\n",
      "\u001b[0;32m~/anaconda3/lib/python3.9/site-packages/pandas/core/reshape/merge.py\u001b[0m in \u001b[0;36m_get_merge_keys\u001b[0;34m(self)\u001b[0m\n\u001b[1;32m   1108\u001b[0m                         \u001b[0mright_keys\u001b[0m\u001b[0;34m.\u001b[0m\u001b[0mappend\u001b[0m\u001b[0;34m(\u001b[0m\u001b[0mrk\u001b[0m\u001b[0;34m)\u001b[0m\u001b[0;34m\u001b[0m\u001b[0;34m\u001b[0m\u001b[0m\n\u001b[1;32m   1109\u001b[0m                     \u001b[0;32mif\u001b[0m \u001b[0mlk\u001b[0m \u001b[0;32mis\u001b[0m \u001b[0;32mnot\u001b[0m \u001b[0;32mNone\u001b[0m\u001b[0;34m:\u001b[0m\u001b[0;34m\u001b[0m\u001b[0;34m\u001b[0m\u001b[0m\n\u001b[0;32m-> 1110\u001b[0;31m                         \u001b[0mleft_keys\u001b[0m\u001b[0;34m.\u001b[0m\u001b[0mappend\u001b[0m\u001b[0;34m(\u001b[0m\u001b[0mleft\u001b[0m\u001b[0;34m.\u001b[0m\u001b[0m_get_label_or_level_values\u001b[0m\u001b[0;34m(\u001b[0m\u001b[0mlk\u001b[0m\u001b[0;34m)\u001b[0m\u001b[0;34m)\u001b[0m\u001b[0;34m\u001b[0m\u001b[0;34m\u001b[0m\u001b[0m\n\u001b[0m\u001b[1;32m   1111\u001b[0m                         \u001b[0mjoin_names\u001b[0m\u001b[0;34m.\u001b[0m\u001b[0mappend\u001b[0m\u001b[0;34m(\u001b[0m\u001b[0mlk\u001b[0m\u001b[0;34m)\u001b[0m\u001b[0;34m\u001b[0m\u001b[0;34m\u001b[0m\u001b[0m\n\u001b[1;32m   1112\u001b[0m                     \u001b[0;32melse\u001b[0m\u001b[0;34m:\u001b[0m\u001b[0;34m\u001b[0m\u001b[0;34m\u001b[0m\u001b[0m\n",
      "\u001b[0;32m~/anaconda3/lib/python3.9/site-packages/pandas/core/generic.py\u001b[0m in \u001b[0;36m_get_label_or_level_values\u001b[0;34m(self, key, axis)\u001b[0m\n\u001b[1;32m   1838\u001b[0m             \u001b[0mvalues\u001b[0m \u001b[0;34m=\u001b[0m \u001b[0mself\u001b[0m\u001b[0;34m.\u001b[0m\u001b[0maxes\u001b[0m\u001b[0;34m[\u001b[0m\u001b[0maxis\u001b[0m\u001b[0;34m]\u001b[0m\u001b[0;34m.\u001b[0m\u001b[0mget_level_values\u001b[0m\u001b[0;34m(\u001b[0m\u001b[0mkey\u001b[0m\u001b[0;34m)\u001b[0m\u001b[0;34m.\u001b[0m\u001b[0m_values\u001b[0m\u001b[0;34m\u001b[0m\u001b[0;34m\u001b[0m\u001b[0m\n\u001b[1;32m   1839\u001b[0m         \u001b[0;32melse\u001b[0m\u001b[0;34m:\u001b[0m\u001b[0;34m\u001b[0m\u001b[0;34m\u001b[0m\u001b[0m\n\u001b[0;32m-> 1840\u001b[0;31m             \u001b[0;32mraise\u001b[0m \u001b[0mKeyError\u001b[0m\u001b[0;34m(\u001b[0m\u001b[0mkey\u001b[0m\u001b[0;34m)\u001b[0m\u001b[0;34m\u001b[0m\u001b[0;34m\u001b[0m\u001b[0m\n\u001b[0m\u001b[1;32m   1841\u001b[0m \u001b[0;34m\u001b[0m\u001b[0m\n\u001b[1;32m   1842\u001b[0m         \u001b[0;31m# Check for duplicates\u001b[0m\u001b[0;34m\u001b[0m\u001b[0;34m\u001b[0m\u001b[0m\n",
      "\u001b[0;31mKeyError\u001b[0m: 'mun_name'"
     ]
    }
   ],
   "source": [
    "grafi = f_b.merge(madrid, on='mun_name', how='left', indicator=True)\n",
    "grafi.head()"
   ]
  },
  {
   "cell_type": "code",
   "execution_count": null,
   "id": "36b665c5",
   "metadata": {},
   "outputs": [
    {
     "name": "stdout",
     "output_type": "stream",
     "text": [
      "User Guide: https://docs.kepler.gl/docs/keplergl-jupyter\n"
     ]
    }
   ],
   "source": [
    "#mapa_k = KeplerGl(height=600, width=800)   # inicia el mapa"
   ]
  },
  {
   "cell_type": "code",
   "execution_count": null,
   "id": "40fc5514",
   "metadata": {},
   "outputs": [],
   "source": [
    "#mapa_k.add_data(madrid.copy(), 'Madrí')    # se añaden datos y se pone nombre"
   ]
  },
  {
   "cell_type": "code",
   "execution_count": null,
   "id": "87cae186",
   "metadata": {},
   "outputs": [
    {
     "data": {
      "application/vnd.jupyter.widget-view+json": {
       "model_id": "91b8ef08b45d4294b0ee6ff00730a20b",
       "version_major": 2,
       "version_minor": 0
      },
      "text/plain": [
       "KeplerGl(data={'Madrí': {'index': [123, 0, 96, 1, 145, 124, 97, 76, 28, 77, 111, 176, 125, 78, 112, 132, 98, 7…"
      ]
     },
     "metadata": {},
     "output_type": "display_data"
    }
   ],
   "source": [
    "#mapa_k"
   ]
  },
  {
   "cell_type": "code",
   "execution_count": null,
   "id": "2df974dd",
   "metadata": {},
   "outputs": [
    {
     "data": {
      "text/plain": [
       "\"naci_fue.drop(['Municipio'], axis=1, inplace=True)\\ntab_base = pob_total.merge(naci_fue, on='Mun_id', how='left', indicator=True)\\ncol = tab_base.pop('Nacimiento_extranjero')\\ntab_base.insert(3, col.name, col)\""
      ]
     },
     "execution_count": 13,
     "metadata": {},
     "output_type": "execute_result"
    }
   ],
   "source": [
    "#Merging both dataframes\n",
    "\n",
    "'''naci_fue.drop(['Municipio'], axis=1, inplace=True)\n",
    "tab_base = pob_total.merge(naci_fue, on='Mun_id', how='left', indicator=True)\n",
    "col = tab_base.pop('Nacimiento_extranjero')\n",
    "tab_base.insert(3, col.name, col)'''"
   ]
  },
  {
   "cell_type": "code",
   "execution_count": null,
   "id": "57ff18b6",
   "metadata": {},
   "outputs": [
    {
     "data": {
      "text/plain": [
       "\"tab_base['Porcentaje_pob_ext'] = (tab_base['Nacimiento_extranjero'] / tab_base['Poblacion_total']) * 100\\ncol = tab_base.pop('Porcentaje_pob_ext')\\ntab_base.insert(3, col.name, col)\\ntab_base.head()\""
      ]
     },
     "execution_count": 14,
     "metadata": {},
     "output_type": "execute_result"
    }
   ],
   "source": [
    "#Calculating foreign-born percentage \n",
    "\n",
    "'''tab_base['Porcentaje_pob_ext'] = (tab_base['Nacimiento_extranjero'] / tab_base['Poblacion_total']) * 100\n",
    "col = tab_base.pop('Porcentaje_pob_ext')\n",
    "tab_base.insert(3, col.name, col)\n",
    "tab_base.head()'''"
   ]
  },
  {
   "cell_type": "code",
   "execution_count": null,
   "id": "48c08c8f",
   "metadata": {},
   "outputs": [],
   "source": [
    "#Clean data served\n",
    "#tab_base.to_csv('clean_data/Foreign_born.csv', index=False)"
   ]
  },
  {
   "cell_type": "code",
   "execution_count": null,
   "id": "95a89c11",
   "metadata": {},
   "outputs": [],
   "source": []
  }
 ],
 "metadata": {
  "kernelspec": {
   "display_name": "base",
   "language": "python",
   "name": "python3"
  },
  "language_info": {
   "codemirror_mode": {
    "name": "ipython",
    "version": 3
   },
   "file_extension": ".py",
   "mimetype": "text/x-python",
   "name": "python",
   "nbconvert_exporter": "python",
   "pygments_lexer": "ipython3",
   "version": "3.9.15"
  },
  "vscode": {
   "interpreter": {
    "hash": "724c77ff2fed6d6e12a540dd8da61255779d7769d85e8173c57931e195056c8d"
   }
  }
 },
 "nbformat": 4,
 "nbformat_minor": 5
}
