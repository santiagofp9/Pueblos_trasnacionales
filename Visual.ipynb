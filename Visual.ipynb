{
 "cells": [
  {
   "cell_type": "code",
   "execution_count": 3,
   "id": "8582f480",
   "metadata": {},
   "outputs": [],
   "source": [
    "import geopandas as gpd\n",
    "\n",
    "from keplergl import KeplerGl\n",
    "\n",
    "import numpy as np"
   ]
  },
  {
   "cell_type": "code",
   "execution_count": 6,
   "id": "e7e9c8e9",
   "metadata": {},
   "outputs": [
    {
     "data": {
      "text/html": [
       "<div>\n",
       "<style scoped>\n",
       "    .dataframe tbody tr th:only-of-type {\n",
       "        vertical-align: middle;\n",
       "    }\n",
       "\n",
       "    .dataframe tbody tr th {\n",
       "        vertical-align: top;\n",
       "    }\n",
       "\n",
       "    .dataframe thead th {\n",
       "        text-align: right;\n",
       "    }\n",
       "</style>\n",
       "<table border=\"1\" class=\"dataframe\">\n",
       "  <thead>\n",
       "    <tr style=\"text-align: right;\">\n",
       "      <th></th>\n",
       "      <th>id</th>\n",
       "      <th>NATCODE</th>\n",
       "      <th>NAMEUNIT</th>\n",
       "      <th>CODNUT2</th>\n",
       "      <th>CODNUT3</th>\n",
       "      <th>geometry</th>\n",
       "    </tr>\n",
       "  </thead>\n",
       "  <tbody>\n",
       "    <tr>\n",
       "      <th>0</th>\n",
       "      <td>NaN</td>\n",
       "      <td>34063939001</td>\n",
       "      <td>Alfoz de Lloredo</td>\n",
       "      <td>ES13</td>\n",
       "      <td>ES130</td>\n",
       "      <td>MULTIPOLYGON (((-4.26509 43.36463, -4.23642 43...</td>\n",
       "    </tr>\n",
       "    <tr>\n",
       "      <th>1</th>\n",
       "      <td>NaN</td>\n",
       "      <td>34081616177</td>\n",
       "      <td>Reíllo</td>\n",
       "      <td>ES42</td>\n",
       "      <td>ES423</td>\n",
       "      <td>MULTIPOLYGON (((-1.95643 39.87562, -1.94130 39...</td>\n",
       "    </tr>\n",
       "    <tr>\n",
       "      <th>2</th>\n",
       "      <td>NaN</td>\n",
       "      <td>34081616181</td>\n",
       "      <td>Rozalén del Monte</td>\n",
       "      <td>ES42</td>\n",
       "      <td>ES423</td>\n",
       "      <td>MULTIPOLYGON (((-2.83110 40.01001, -2.80182 40...</td>\n",
       "    </tr>\n",
       "    <tr>\n",
       "      <th>3</th>\n",
       "      <td>NaN</td>\n",
       "      <td>34081616185</td>\n",
       "      <td>Saceda-Trasierra</td>\n",
       "      <td>ES42</td>\n",
       "      <td>ES423</td>\n",
       "      <td>MULTIPOLYGON (((-2.88759 40.16463, -2.86313 40...</td>\n",
       "    </tr>\n",
       "    <tr>\n",
       "      <th>4</th>\n",
       "      <td>NaN</td>\n",
       "      <td>34074949069</td>\n",
       "      <td>Figueruela de Arriba</td>\n",
       "      <td>ES41</td>\n",
       "      <td>ES419</td>\n",
       "      <td>MULTIPOLYGON (((-6.54598 41.93068, -6.53907 41...</td>\n",
       "    </tr>\n",
       "  </tbody>\n",
       "</table>\n",
       "</div>"
      ],
      "text/plain": [
       "   id      NATCODE              NAMEUNIT CODNUT2 CODNUT3  \\\n",
       "0 NaN  34063939001      Alfoz de Lloredo    ES13   ES130   \n",
       "1 NaN  34081616177                Reíllo    ES42   ES423   \n",
       "2 NaN  34081616181     Rozalén del Monte    ES42   ES423   \n",
       "3 NaN  34081616185      Saceda-Trasierra    ES42   ES423   \n",
       "4 NaN  34074949069  Figueruela de Arriba    ES41   ES419   \n",
       "\n",
       "                                            geometry  \n",
       "0  MULTIPOLYGON (((-4.26509 43.36463, -4.23642 43...  \n",
       "1  MULTIPOLYGON (((-1.95643 39.87562, -1.94130 39...  \n",
       "2  MULTIPOLYGON (((-2.83110 40.01001, -2.80182 40...  \n",
       "3  MULTIPOLYGON (((-2.88759 40.16463, -2.86313 40...  \n",
       "4  MULTIPOLYGON (((-6.54598 41.93068, -6.53907 41...  "
      ]
     },
     "execution_count": 6,
     "metadata": {},
     "output_type": "execute_result"
    }
   ],
   "source": [
    "mex=gpd.read_file('polygons/spain_municipalities.json')   # cargar datos geoespaciales (multipolygon)\n",
    "\n",
    "mex.head()"
   ]
  },
  {
   "cell_type": "code",
   "execution_count": 7,
   "id": "de76c043",
   "metadata": {},
   "outputs": [
    {
     "name": "stdout",
     "output_type": "stream",
     "text": [
      "<class 'geopandas.geodataframe.GeoDataFrame'>\n",
      "RangeIndex: 8205 entries, 0 to 8204\n",
      "Data columns (total 6 columns):\n",
      " #   Column    Non-Null Count  Dtype   \n",
      "---  ------    --------------  -----   \n",
      " 0   id        0 non-null      float64 \n",
      " 1   NATCODE   8205 non-null   object  \n",
      " 2   NAMEUNIT  8205 non-null   object  \n",
      " 3   CODNUT2   8205 non-null   object  \n",
      " 4   CODNUT3   8205 non-null   object  \n",
      " 5   geometry  8205 non-null   geometry\n",
      "dtypes: float64(1), geometry(1), object(4)\n",
      "memory usage: 2.2 MB\n"
     ]
    }
   ],
   "source": [
    "mex.info(memory_usage='deep')"
   ]
  },
  {
   "cell_type": "code",
   "execution_count": 8,
   "id": "d6fb82fa",
   "metadata": {},
   "outputs": [
    {
     "name": "stdout",
     "output_type": "stream",
     "text": [
      "User Guide: https://docs.kepler.gl/docs/keplergl-jupyter\n",
      "Map saved to mapa_kepler.html!\n"
     ]
    },
    {
     "name": "stderr",
     "output_type": "stream",
     "text": [
      "/home/hefesto/anaconda3/lib/python3.9/site-packages/jupyter_client/session.py:718: UserWarning: Message serialization failed with:\n",
      "Out of range float values are not JSON compliant\n",
      "Supporting this message is deprecated in jupyter-client 7, please make sure your message is JSON-compliant\n",
      "  content = self.pack(content)\n"
     ]
    },
    {
     "data": {
      "application/vnd.jupyter.widget-view+json": {
       "model_id": "eb4a7dfaf79344308ad99c19fc676c81",
       "version_major": 2,
       "version_minor": 0
      },
      "text/plain": [
       "KeplerGl(data={'España': {'index': [0, 1, 2, 3, 4, 5, 6, 7, 8, 9, 10, 11, 12, 13, 14, 15, 16, 17, 18, 19, 20, …"
      ]
     },
     "metadata": {},
     "output_type": "display_data"
    }
   ],
   "source": [
    "mapa_k = KeplerGl(height=600, width=800)   # inicia el mapa\n",
    "\n",
    "\n",
    "mapa_k.add_data(mex.copy(), 'España')    # se añaden datos y se pone nombre\n",
    "\n",
    "\n",
    "mapa_k.save_to_html(file_name='mapa_kepler.html')  # guardar\n",
    "\n",
    "mapa_k   # se pinta"
   ]
  },
  {
   "cell_type": "code",
   "execution_count": null,
   "id": "6839ef88",
   "metadata": {},
   "outputs": [],
   "source": []
  }
 ],
 "metadata": {
  "kernelspec": {
   "display_name": "Python 3 (ipykernel)",
   "language": "python",
   "name": "python3"
  },
  "language_info": {
   "codemirror_mode": {
    "name": "ipython",
    "version": 3
   },
   "file_extension": ".py",
   "mimetype": "text/x-python",
   "name": "python",
   "nbconvert_exporter": "python",
   "pygments_lexer": "ipython3",
   "version": "3.9.15"
  }
 },
 "nbformat": 4,
 "nbformat_minor": 5
}
