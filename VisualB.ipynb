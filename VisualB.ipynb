{
 "cells": [
  {
   "cell_type": "code",
   "execution_count": 1,
   "id": "ec6f2a3a",
   "metadata": {},
   "outputs": [],
   "source": [
    "import geopandas as gpd\n",
    "import numpy as np\n",
    "import pandas as pd\n",
    "pd.set_option('display.max_columns', None)\n",
    "import warnings\n",
    "warnings.filterwarnings('ignore')\n",
    "\n",
    "from keplergl import KeplerGl\n",
    "\n",
    "#Functions\n",
    "from src.funk import Funk "
   ]
  },
  {
   "cell_type": "code",
   "execution_count": 2,
   "id": "80b2dda3",
   "metadata": {},
   "outputs": [],
   "source": [
    "spain=gpd.read_file('polygons/georef-spain-municipio@public.geojson')   # cargar datos geoespaciales (multipolygon)\n",
    "#RangeIndex: 8223 entries, 0 to 8222 ; Data columns (total 12 columns) ; memory usage: 6.8 MB"
   ]
  },
  {
   "cell_type": "code",
   "execution_count": 3,
   "id": "dd762514",
   "metadata": {},
   "outputs": [],
   "source": [
    "f_b = pd.read_csv('clean_data/Foreign_born.csv')\n",
    "fore_born.drop(fore_born.columns[[-1]], axis=1, inplace=True)"
   ]
  },
  {
   "cell_type": "code",
   "execution_count": 4,
   "id": "b251dec7",
   "metadata": {},
   "outputs": [],
   "source": [
    "madri = spain[spain['prov_name'] == 'Madrid']\n",
    "# Int64Index: 181 entries, 176 to 8027 ; Data columns (total 12 columns) ; memory usage: 151.5 KB"
   ]
  },
  {
   "cell_type": "code",
   "execution_count": 5,
   "id": "8466af2c",
   "metadata": {},
   "outputs": [
    {
     "data": {
      "text/html": [
       "<div>\n",
       "<style scoped>\n",
       "    .dataframe tbody tr th:only-of-type {\n",
       "        vertical-align: middle;\n",
       "    }\n",
       "\n",
       "    .dataframe tbody tr th {\n",
       "        vertical-align: top;\n",
       "    }\n",
       "\n",
       "    .dataframe thead th {\n",
       "        text-align: right;\n",
       "    }\n",
       "</style>\n",
       "<table border=\"1\" class=\"dataframe\">\n",
       "  <thead>\n",
       "    <tr style=\"text-align: right;\">\n",
       "      <th></th>\n",
       "      <th>geo_point_2d</th>\n",
       "      <th>year</th>\n",
       "      <th>acom_code</th>\n",
       "      <th>acom_name</th>\n",
       "      <th>prov_code</th>\n",
       "      <th>prov_name</th>\n",
       "      <th>mun_code</th>\n",
       "      <th>Municipio</th>\n",
       "      <th>mun_area_code</th>\n",
       "      <th>mun_type</th>\n",
       "      <th>mun_name_local</th>\n",
       "      <th>geometry</th>\n",
       "    </tr>\n",
       "  </thead>\n",
       "  <tbody>\n",
       "    <tr>\n",
       "      <th>176</th>\n",
       "      <td>{'lon': -3.4801385596854346, 'lat': 40.5239757...</td>\n",
       "      <td>2022</td>\n",
       "      <td>13</td>\n",
       "      <td>Comunidad de Madrid</td>\n",
       "      <td>28</td>\n",
       "      <td>Madrid</td>\n",
       "      <td>28002</td>\n",
       "      <td>Ajalvir</td>\n",
       "      <td>ESP</td>\n",
       "      <td>municipality</td>\n",
       "      <td>NaN</td>\n",
       "      <td>POLYGON ((-3.51222 40.53864, -3.51151 40.53759...</td>\n",
       "    </tr>\n",
       "    <tr>\n",
       "      <th>177</th>\n",
       "      <td>{'lon': -3.3696004109155107, 'lat': 40.4945916...</td>\n",
       "      <td>2022</td>\n",
       "      <td>13</td>\n",
       "      <td>Comunidad de Madrid</td>\n",
       "      <td>28</td>\n",
       "      <td>Madrid</td>\n",
       "      <td>28005</td>\n",
       "      <td>Alcalá de Henares</td>\n",
       "      <td>ESP</td>\n",
       "      <td>municipality</td>\n",
       "      <td>NaN</td>\n",
       "      <td>POLYGON ((-3.44720 40.44631, -3.44669 40.44589...</td>\n",
       "    </tr>\n",
       "    <tr>\n",
       "      <th>178</th>\n",
       "      <td>{'lon': -3.766947850822002, 'lat': 40.23065887...</td>\n",
       "      <td>2022</td>\n",
       "      <td>13</td>\n",
       "      <td>Comunidad de Madrid</td>\n",
       "      <td>28</td>\n",
       "      <td>Madrid</td>\n",
       "      <td>28106</td>\n",
       "      <td>Parla</td>\n",
       "      <td>ESP</td>\n",
       "      <td>municipality</td>\n",
       "      <td>NaN</td>\n",
       "      <td>POLYGON ((-3.80761 40.22942, -3.80746 40.22884...</td>\n",
       "    </tr>\n",
       "    <tr>\n",
       "      <th>179</th>\n",
       "      <td>{'lon': -3.561632832160786, 'lat': 40.24313069...</td>\n",
       "      <td>2022</td>\n",
       "      <td>13</td>\n",
       "      <td>Comunidad de Madrid</td>\n",
       "      <td>28</td>\n",
       "      <td>Madrid</td>\n",
       "      <td>28132</td>\n",
       "      <td>San Martín de la Vega</td>\n",
       "      <td>ESP</td>\n",
       "      <td>municipality</td>\n",
       "      <td>NaN</td>\n",
       "      <td>POLYGON ((-3.64364 40.22966, -3.64368 40.22933...</td>\n",
       "    </tr>\n",
       "    <tr>\n",
       "      <th>180</th>\n",
       "      <td>{'lon': -3.2234223881113153, 'lat': 40.4714399...</td>\n",
       "      <td>2022</td>\n",
       "      <td>13</td>\n",
       "      <td>Comunidad de Madrid</td>\n",
       "      <td>28</td>\n",
       "      <td>Madrid</td>\n",
       "      <td>28136</td>\n",
       "      <td>Santorcaz</td>\n",
       "      <td>ESP</td>\n",
       "      <td>municipality</td>\n",
       "      <td>NaN</td>\n",
       "      <td>POLYGON ((-3.25833 40.48396, -3.25850 40.48279...</td>\n",
       "    </tr>\n",
       "  </tbody>\n",
       "</table>\n",
       "</div>"
      ],
      "text/plain": [
       "                                          geo_point_2d  year acom_code  \\\n",
       "176  {'lon': -3.4801385596854346, 'lat': 40.5239757...  2022        13   \n",
       "177  {'lon': -3.3696004109155107, 'lat': 40.4945916...  2022        13   \n",
       "178  {'lon': -3.766947850822002, 'lat': 40.23065887...  2022        13   \n",
       "179  {'lon': -3.561632832160786, 'lat': 40.24313069...  2022        13   \n",
       "180  {'lon': -3.2234223881113153, 'lat': 40.4714399...  2022        13   \n",
       "\n",
       "               acom_name prov_code prov_name mun_code              Municipio  \\\n",
       "176  Comunidad de Madrid        28    Madrid    28002                Ajalvir   \n",
       "177  Comunidad de Madrid        28    Madrid    28005      Alcalá de Henares   \n",
       "178  Comunidad de Madrid        28    Madrid    28106                  Parla   \n",
       "179  Comunidad de Madrid        28    Madrid    28132  San Martín de la Vega   \n",
       "180  Comunidad de Madrid        28    Madrid    28136              Santorcaz   \n",
       "\n",
       "    mun_area_code      mun_type mun_name_local  \\\n",
       "176           ESP  municipality            NaN   \n",
       "177           ESP  municipality            NaN   \n",
       "178           ESP  municipality            NaN   \n",
       "179           ESP  municipality            NaN   \n",
       "180           ESP  municipality            NaN   \n",
       "\n",
       "                                              geometry  \n",
       "176  POLYGON ((-3.51222 40.53864, -3.51151 40.53759...  \n",
       "177  POLYGON ((-3.44720 40.44631, -3.44669 40.44589...  \n",
       "178  POLYGON ((-3.80761 40.22942, -3.80746 40.22884...  \n",
       "179  POLYGON ((-3.64364 40.22966, -3.64368 40.22933...  \n",
       "180  POLYGON ((-3.25833 40.48396, -3.25850 40.48279...  "
      ]
     },
     "execution_count": 5,
     "metadata": {},
     "output_type": "execute_result"
    }
   ],
   "source": [
    "mad = madri\n",
    "#mad.drop(mad.columns[[1,2,3,4,5,6,8,9,10]], axis=1, inplace=True)\n",
    "mad.rename(columns={'mun_name':'Municipio'}, inplace = True)\n",
    "mad.head()"
   ]
  },
  {
   "cell_type": "code",
   "execution_count": 6,
   "id": "92d16e41",
   "metadata": {},
   "outputs": [
    {
     "data": {
      "text/plain": [
       "(165, 223)"
      ]
     },
     "execution_count": 6,
     "metadata": {},
     "output_type": "execute_result"
    }
   ],
   "source": [
    "#Merging both dataframes\n",
    "#Several municipios were lost in this merge, will go back later\n",
    "\n",
    "grafi = mad.merge(fore_born, how='inner', on='Municipio', indicator=True)\n",
    "\n",
    "grafi.shape"
   ]
  },
  {
   "cell_type": "code",
   "execution_count": 7,
   "id": "a9ad5f32",
   "metadata": {},
   "outputs": [
    {
     "name": "stdout",
     "output_type": "stream",
     "text": [
      "User Guide: https://docs.kepler.gl/docs/keplergl-jupyter\n"
     ]
    }
   ],
   "source": [
    "mapa_k = KeplerGl(height=600, width=800)   # inicia el mapa"
   ]
  },
  {
   "cell_type": "code",
   "execution_count": 11,
   "id": "d5726925",
   "metadata": {},
   "outputs": [],
   "source": [
    "mapa_k.add_data(grafi.copy(), 'Madrí')    # se añaden datos y se pone nombre"
   ]
  },
  {
   "cell_type": "code",
   "execution_count": 9,
   "id": "81ac2dfb",
   "metadata": {},
   "outputs": [
    {
     "data": {
      "text/plain": [
       "\"mapa_k2 = KeplerGl(height=600, width=800, config=config)   # inicia el mapa\\n\\nmapa_k2.add_data(grafi.copy(), 'Madrid')    # se añaden datos y se pone nombre\\n\\nmapa_k2.save_to_html(file_name='mapa_kepler2.html')  # guardar\\n\\nmapa_k2   # se pinta\""
      ]
     },
     "execution_count": 9,
     "metadata": {},
     "output_type": "execute_result"
    }
   ],
   "source": [
    "'''mapa_k2 = KeplerGl(height=600, width=800, config=config)   # inicia el mapa\n",
    "\n",
    "mapa_k2.add_data(grafi.copy(), 'Madrid')    # se añaden datos y se pone nombre\n",
    "\n",
    "mapa_k2.save_to_html(file_name='mapa_kepler2.html')  # guardar\n",
    "\n",
    "mapa_k2   # se pinta'''"
   ]
  },
  {
   "cell_type": "code",
   "execution_count": 12,
   "id": "52506745",
   "metadata": {},
   "outputs": [
    {
     "name": "stdout",
     "output_type": "stream",
     "text": [
      "Map saved to mapa_kepler1.html!\n"
     ]
    },
    {
     "data": {
      "application/vnd.jupyter.widget-view+json": {
       "model_id": "593e84ba1dde4850827932cd2d9dfe0e",
       "version_major": 2,
       "version_minor": 0
      },
      "text/plain": [
       "KeplerGl(config={'version': 'v1', 'config': {'visState': {'filters': [], 'layers': [{'id': '38a07d', 'type': '…"
      ]
     },
     "metadata": {},
     "output_type": "display_data"
    }
   ],
   "source": [
    "mapa_k.save_to_html(file_name='mapa_kepler1.html')  # guardar\n",
    "\n",
    "mapa_k\n",
    "#config = mapa_k.config"
   ]
  },
  {
   "cell_type": "code",
   "execution_count": null,
   "id": "e2ef23a6",
   "metadata": {},
   "outputs": [],
   "source": []
  }
 ],
 "metadata": {
  "kernelspec": {
   "display_name": "base",
   "language": "python",
   "name": "python3"
  },
  "language_info": {
   "codemirror_mode": {
    "name": "ipython",
    "version": 3
   },
   "file_extension": ".py",
   "mimetype": "text/x-python",
   "name": "python",
   "nbconvert_exporter": "python",
   "pygments_lexer": "ipython3",
   "version": "3.9.15"
  },
  "vscode": {
   "interpreter": {
    "hash": "724c77ff2fed6d6e12a540dd8da61255779d7769d85e8173c57931e195056c8d"
   }
  }
 },
 "nbformat": 4,
 "nbformat_minor": 5
}
