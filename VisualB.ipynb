{
 "cells": [
  {
   "cell_type": "code",
   "execution_count": 1,
   "id": "ec6f2a3a",
   "metadata": {},
   "outputs": [],
   "source": [
    "import geopandas as gpd\n",
    "\n",
    "from keplergl import KeplerGl\n",
    "\n",
    "import numpy as np"
   ]
  },
  {
   "cell_type": "code",
   "execution_count": 2,
   "id": "80b2dda3",
   "metadata": {},
   "outputs": [
    {
     "data": {
      "text/html": [
       "<div>\n",
       "<style scoped>\n",
       "    .dataframe tbody tr th:only-of-type {\n",
       "        vertical-align: middle;\n",
       "    }\n",
       "\n",
       "    .dataframe tbody tr th {\n",
       "        vertical-align: top;\n",
       "    }\n",
       "\n",
       "    .dataframe thead th {\n",
       "        text-align: right;\n",
       "    }\n",
       "</style>\n",
       "<table border=\"1\" class=\"dataframe\">\n",
       "  <thead>\n",
       "    <tr style=\"text-align: right;\">\n",
       "      <th></th>\n",
       "      <th>geo_point_2d</th>\n",
       "      <th>year</th>\n",
       "      <th>acom_code</th>\n",
       "      <th>acom_name</th>\n",
       "      <th>prov_code</th>\n",
       "      <th>prov_name</th>\n",
       "      <th>mun_code</th>\n",
       "      <th>mun_name</th>\n",
       "      <th>mun_area_code</th>\n",
       "      <th>mun_type</th>\n",
       "      <th>mun_name_local</th>\n",
       "      <th>geometry</th>\n",
       "    </tr>\n",
       "  </thead>\n",
       "  <tbody>\n",
       "    <tr>\n",
       "      <th>0</th>\n",
       "      <td>{'lon': -5.0213323406250625, 'lat': 40.5970857...</td>\n",
       "      <td>2022</td>\n",
       "      <td>07</td>\n",
       "      <td>Castilla y León</td>\n",
       "      <td>05</td>\n",
       "      <td>Ávila</td>\n",
       "      <td>05135</td>\n",
       "      <td>Muñana</td>\n",
       "      <td>ESP</td>\n",
       "      <td>municipality</td>\n",
       "      <td>NaN</td>\n",
       "      <td>POLYGON ((-5.07517 40.60735, -5.07456 40.60565...</td>\n",
       "    </tr>\n",
       "    <tr>\n",
       "      <th>1</th>\n",
       "      <td>{'lon': -4.667610147314238, 'lat': 40.80222330...</td>\n",
       "      <td>2022</td>\n",
       "      <td>07</td>\n",
       "      <td>Castilla y León</td>\n",
       "      <td>05</td>\n",
       "      <td>Ávila</td>\n",
       "      <td>05190</td>\n",
       "      <td>Pozanco</td>\n",
       "      <td>ESP</td>\n",
       "      <td>municipality</td>\n",
       "      <td>NaN</td>\n",
       "      <td>POLYGON ((-4.68510 40.79981, -4.68540 40.79967...</td>\n",
       "    </tr>\n",
       "    <tr>\n",
       "      <th>2</th>\n",
       "      <td>{'lon': -5.672854422454382, 'lat': 40.39179576...</td>\n",
       "      <td>2022</td>\n",
       "      <td>07</td>\n",
       "      <td>Castilla y León</td>\n",
       "      <td>05</td>\n",
       "      <td>Ávila</td>\n",
       "      <td>05199</td>\n",
       "      <td>San Bartolomé de Béjar</td>\n",
       "      <td>ESP</td>\n",
       "      <td>municipality</td>\n",
       "      <td>NaN</td>\n",
       "      <td>POLYGON ((-5.69119 40.42199, -5.69141 40.42157...</td>\n",
       "    </tr>\n",
       "    <tr>\n",
       "      <th>3</th>\n",
       "      <td>{'lon': -4.600343643582654, 'lat': 40.53129677...</td>\n",
       "      <td>2022</td>\n",
       "      <td>07</td>\n",
       "      <td>Castilla y León</td>\n",
       "      <td>05</td>\n",
       "      <td>Ávila</td>\n",
       "      <td>05222</td>\n",
       "      <td>Santa Cruz de Pinares</td>\n",
       "      <td>ESP</td>\n",
       "      <td>municipality</td>\n",
       "      <td>NaN</td>\n",
       "      <td>POLYGON ((-4.63600 40.54964, -4.63701 40.54361...</td>\n",
       "    </tr>\n",
       "    <tr>\n",
       "      <th>4</th>\n",
       "      <td>{'lon': -4.901293810126914, 'lat': 40.78763341...</td>\n",
       "      <td>2022</td>\n",
       "      <td>07</td>\n",
       "      <td>Castilla y León</td>\n",
       "      <td>05</td>\n",
       "      <td>Ávila</td>\n",
       "      <td>05230</td>\n",
       "      <td>Santo Tomé de Zabarcos</td>\n",
       "      <td>ESP</td>\n",
       "      <td>municipality</td>\n",
       "      <td>NaN</td>\n",
       "      <td>POLYGON ((-4.92387 40.78019, -4.92298 40.78054...</td>\n",
       "    </tr>\n",
       "  </tbody>\n",
       "</table>\n",
       "</div>"
      ],
      "text/plain": [
       "                                        geo_point_2d  year acom_code  \\\n",
       "0  {'lon': -5.0213323406250625, 'lat': 40.5970857...  2022        07   \n",
       "1  {'lon': -4.667610147314238, 'lat': 40.80222330...  2022        07   \n",
       "2  {'lon': -5.672854422454382, 'lat': 40.39179576...  2022        07   \n",
       "3  {'lon': -4.600343643582654, 'lat': 40.53129677...  2022        07   \n",
       "4  {'lon': -4.901293810126914, 'lat': 40.78763341...  2022        07   \n",
       "\n",
       "         acom_name prov_code prov_name mun_code                mun_name  \\\n",
       "0  Castilla y León        05     Ávila    05135                  Muñana   \n",
       "1  Castilla y León        05     Ávila    05190                 Pozanco   \n",
       "2  Castilla y León        05     Ávila    05199  San Bartolomé de Béjar   \n",
       "3  Castilla y León        05     Ávila    05222   Santa Cruz de Pinares   \n",
       "4  Castilla y León        05     Ávila    05230  Santo Tomé de Zabarcos   \n",
       "\n",
       "  mun_area_code      mun_type mun_name_local  \\\n",
       "0           ESP  municipality            NaN   \n",
       "1           ESP  municipality            NaN   \n",
       "2           ESP  municipality            NaN   \n",
       "3           ESP  municipality            NaN   \n",
       "4           ESP  municipality            NaN   \n",
       "\n",
       "                                            geometry  \n",
       "0  POLYGON ((-5.07517 40.60735, -5.07456 40.60565...  \n",
       "1  POLYGON ((-4.68510 40.79981, -4.68540 40.79967...  \n",
       "2  POLYGON ((-5.69119 40.42199, -5.69141 40.42157...  \n",
       "3  POLYGON ((-4.63600 40.54964, -4.63701 40.54361...  \n",
       "4  POLYGON ((-4.92387 40.78019, -4.92298 40.78054...  "
      ]
     },
     "execution_count": 2,
     "metadata": {},
     "output_type": "execute_result"
    }
   ],
   "source": [
    "spain=gpd.read_file('polygons/georef-spain-municipio@public.geojson')   # cargar datos geoespaciales (multipolygon)\n",
    "#RangeIndex: 8223 entries, 0 to 8222 ; Data columns (total 12 columns) ; memory usage: 6.8 MB\n",
    "spain.head()"
   ]
  },
  {
   "cell_type": "code",
   "execution_count": 3,
   "id": "b251dec7",
   "metadata": {},
   "outputs": [
    {
     "data": {
      "text/html": [
       "<div>\n",
       "<style scoped>\n",
       "    .dataframe tbody tr th:only-of-type {\n",
       "        vertical-align: middle;\n",
       "    }\n",
       "\n",
       "    .dataframe tbody tr th {\n",
       "        vertical-align: top;\n",
       "    }\n",
       "\n",
       "    .dataframe thead th {\n",
       "        text-align: right;\n",
       "    }\n",
       "</style>\n",
       "<table border=\"1\" class=\"dataframe\">\n",
       "  <thead>\n",
       "    <tr style=\"text-align: right;\">\n",
       "      <th></th>\n",
       "      <th>geo_point_2d</th>\n",
       "      <th>year</th>\n",
       "      <th>acom_code</th>\n",
       "      <th>acom_name</th>\n",
       "      <th>prov_code</th>\n",
       "      <th>prov_name</th>\n",
       "      <th>mun_code</th>\n",
       "      <th>mun_name</th>\n",
       "      <th>mun_area_code</th>\n",
       "      <th>mun_type</th>\n",
       "      <th>mun_name_local</th>\n",
       "      <th>geometry</th>\n",
       "    </tr>\n",
       "  </thead>\n",
       "  <tbody>\n",
       "    <tr>\n",
       "      <th>176</th>\n",
       "      <td>{'lon': -3.4801385596854346, 'lat': 40.5239757...</td>\n",
       "      <td>2022</td>\n",
       "      <td>13</td>\n",
       "      <td>Comunidad de Madrid</td>\n",
       "      <td>28</td>\n",
       "      <td>Madrid</td>\n",
       "      <td>28002</td>\n",
       "      <td>Ajalvir</td>\n",
       "      <td>ESP</td>\n",
       "      <td>municipality</td>\n",
       "      <td>NaN</td>\n",
       "      <td>POLYGON ((-3.51222 40.53864, -3.51151 40.53759...</td>\n",
       "    </tr>\n",
       "    <tr>\n",
       "      <th>177</th>\n",
       "      <td>{'lon': -3.3696004109155107, 'lat': 40.4945916...</td>\n",
       "      <td>2022</td>\n",
       "      <td>13</td>\n",
       "      <td>Comunidad de Madrid</td>\n",
       "      <td>28</td>\n",
       "      <td>Madrid</td>\n",
       "      <td>28005</td>\n",
       "      <td>Alcalá de Henares</td>\n",
       "      <td>ESP</td>\n",
       "      <td>municipality</td>\n",
       "      <td>NaN</td>\n",
       "      <td>POLYGON ((-3.44720 40.44631, -3.44669 40.44589...</td>\n",
       "    </tr>\n",
       "    <tr>\n",
       "      <th>178</th>\n",
       "      <td>{'lon': -3.766947850822002, 'lat': 40.23065887...</td>\n",
       "      <td>2022</td>\n",
       "      <td>13</td>\n",
       "      <td>Comunidad de Madrid</td>\n",
       "      <td>28</td>\n",
       "      <td>Madrid</td>\n",
       "      <td>28106</td>\n",
       "      <td>Parla</td>\n",
       "      <td>ESP</td>\n",
       "      <td>municipality</td>\n",
       "      <td>NaN</td>\n",
       "      <td>POLYGON ((-3.80761 40.22942, -3.80746 40.22884...</td>\n",
       "    </tr>\n",
       "    <tr>\n",
       "      <th>179</th>\n",
       "      <td>{'lon': -3.561632832160786, 'lat': 40.24313069...</td>\n",
       "      <td>2022</td>\n",
       "      <td>13</td>\n",
       "      <td>Comunidad de Madrid</td>\n",
       "      <td>28</td>\n",
       "      <td>Madrid</td>\n",
       "      <td>28132</td>\n",
       "      <td>San Martín de la Vega</td>\n",
       "      <td>ESP</td>\n",
       "      <td>municipality</td>\n",
       "      <td>NaN</td>\n",
       "      <td>POLYGON ((-3.64364 40.22966, -3.64368 40.22933...</td>\n",
       "    </tr>\n",
       "    <tr>\n",
       "      <th>180</th>\n",
       "      <td>{'lon': -3.2234223881113153, 'lat': 40.4714399...</td>\n",
       "      <td>2022</td>\n",
       "      <td>13</td>\n",
       "      <td>Comunidad de Madrid</td>\n",
       "      <td>28</td>\n",
       "      <td>Madrid</td>\n",
       "      <td>28136</td>\n",
       "      <td>Santorcaz</td>\n",
       "      <td>ESP</td>\n",
       "      <td>municipality</td>\n",
       "      <td>NaN</td>\n",
       "      <td>POLYGON ((-3.25833 40.48396, -3.25850 40.48279...</td>\n",
       "    </tr>\n",
       "  </tbody>\n",
       "</table>\n",
       "</div>"
      ],
      "text/plain": [
       "                                          geo_point_2d  year acom_code  \\\n",
       "176  {'lon': -3.4801385596854346, 'lat': 40.5239757...  2022        13   \n",
       "177  {'lon': -3.3696004109155107, 'lat': 40.4945916...  2022        13   \n",
       "178  {'lon': -3.766947850822002, 'lat': 40.23065887...  2022        13   \n",
       "179  {'lon': -3.561632832160786, 'lat': 40.24313069...  2022        13   \n",
       "180  {'lon': -3.2234223881113153, 'lat': 40.4714399...  2022        13   \n",
       "\n",
       "               acom_name prov_code prov_name mun_code               mun_name  \\\n",
       "176  Comunidad de Madrid        28    Madrid    28002                Ajalvir   \n",
       "177  Comunidad de Madrid        28    Madrid    28005      Alcalá de Henares   \n",
       "178  Comunidad de Madrid        28    Madrid    28106                  Parla   \n",
       "179  Comunidad de Madrid        28    Madrid    28132  San Martín de la Vega   \n",
       "180  Comunidad de Madrid        28    Madrid    28136              Santorcaz   \n",
       "\n",
       "    mun_area_code      mun_type mun_name_local  \\\n",
       "176           ESP  municipality            NaN   \n",
       "177           ESP  municipality            NaN   \n",
       "178           ESP  municipality            NaN   \n",
       "179           ESP  municipality            NaN   \n",
       "180           ESP  municipality            NaN   \n",
       "\n",
       "                                              geometry  \n",
       "176  POLYGON ((-3.51222 40.53864, -3.51151 40.53759...  \n",
       "177  POLYGON ((-3.44720 40.44631, -3.44669 40.44589...  \n",
       "178  POLYGON ((-3.80761 40.22942, -3.80746 40.22884...  \n",
       "179  POLYGON ((-3.64364 40.22966, -3.64368 40.22933...  \n",
       "180  POLYGON ((-3.25833 40.48396, -3.25850 40.48279...  "
      ]
     },
     "execution_count": 3,
     "metadata": {},
     "output_type": "execute_result"
    }
   ],
   "source": [
    "madri = spain[spain['prov_name'] == 'Madrid']\n",
    "# Int64Index: 181 entries, 176 to 8027 ; Data columns (total 12 columns) ; memory usage: 151.5 KB\n",
    "madri.head()"
   ]
  },
  {
   "cell_type": "code",
   "execution_count": 4,
   "id": "5da6e153",
   "metadata": {},
   "outputs": [
    {
     "name": "stdout",
     "output_type": "stream",
     "text": [
      "<class 'geopandas.geodataframe.GeoDataFrame'>\n",
      "Int64Index: 181 entries, 176 to 8027\n",
      "Data columns (total 12 columns):\n",
      " #   Column          Non-Null Count  Dtype   \n",
      "---  ------          --------------  -----   \n",
      " 0   geo_point_2d    181 non-null    object  \n",
      " 1   year            181 non-null    object  \n",
      " 2   acom_code       181 non-null    object  \n",
      " 3   acom_name       181 non-null    object  \n",
      " 4   prov_code       181 non-null    object  \n",
      " 5   prov_name       181 non-null    object  \n",
      " 6   mun_code        181 non-null    object  \n",
      " 7   mun_name        181 non-null    object  \n",
      " 8   mun_area_code   181 non-null    object  \n",
      " 9   mun_type        181 non-null    object  \n",
      " 10  mun_name_local  0 non-null      object  \n",
      " 11  geometry        181 non-null    geometry\n",
      "dtypes: geometry(1), object(11)\n",
      "memory usage: 151.5 KB\n"
     ]
    }
   ],
   "source": [
    "madri.info(memory_usage='deep')"
   ]
  },
  {
   "cell_type": "code",
   "execution_count": 5,
   "id": "a9ad5f32",
   "metadata": {},
   "outputs": [
    {
     "name": "stdout",
     "output_type": "stream",
     "text": [
      "User Guide: https://docs.kepler.gl/docs/keplergl-jupyter\n"
     ]
    }
   ],
   "source": [
    "mapa_k = KeplerGl(height=600, width=800)   # inicia el mapa"
   ]
  },
  {
   "cell_type": "code",
   "execution_count": 6,
   "id": "d5726925",
   "metadata": {},
   "outputs": [
    {
     "name": "stderr",
     "output_type": "stream",
     "text": [
      "/home/hefesto/anaconda3/lib/python3.9/site-packages/jupyter_client/session.py:718: UserWarning: Message serialization failed with:\n",
      "Out of range float values are not JSON compliant\n",
      "Supporting this message is deprecated in jupyter-client 7, please make sure your message is JSON-compliant\n",
      "  content = self.pack(content)\n"
     ]
    }
   ],
   "source": [
    "mapa_k.add_data(madri.copy(), 'Madrí')    # se añaden datos y se pone nombre"
   ]
  },
  {
   "cell_type": "code",
   "execution_count": 7,
   "id": "c1ce5966",
   "metadata": {},
   "outputs": [
    {
     "name": "stdout",
     "output_type": "stream",
     "text": [
      "Map saved to mapa_kepler.html!\n"
     ]
    }
   ],
   "source": [
    "mapa_k.save_to_html(file_name='mapa_kepler.html')  # guardar"
   ]
  },
  {
   "cell_type": "code",
   "execution_count": 8,
   "id": "bc7070d8",
   "metadata": {},
   "outputs": [
    {
     "data": {
      "application/vnd.jupyter.widget-view+json": {
       "model_id": "c795306f9a91425cb936f971d33dae3f",
       "version_major": 2,
       "version_minor": 0
      },
      "text/plain": [
       "KeplerGl(data={'Madrí': {'index': [176, 177, 178, 179, 180, 532, 533, 534, 535, 536, 771, 772, 773, 774, 775, …"
      ]
     },
     "metadata": {},
     "output_type": "display_data"
    }
   ],
   "source": [
    "mapa_k   # se pinta"
   ]
  },
  {
   "cell_type": "code",
   "execution_count": null,
   "id": "3a95b39c",
   "metadata": {},
   "outputs": [],
   "source": []
  }
 ],
 "metadata": {
  "kernelspec": {
   "display_name": "Python 3 (ipykernel)",
   "language": "python",
   "name": "python3"
  },
  "language_info": {
   "codemirror_mode": {
    "name": "ipython",
    "version": 3
   },
   "file_extension": ".py",
   "mimetype": "text/x-python",
   "name": "python",
   "nbconvert_exporter": "python",
   "pygments_lexer": "ipython3",
   "version": "3.9.15"
  }
 },
 "nbformat": 4,
 "nbformat_minor": 5
}
